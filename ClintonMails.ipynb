{
 "cells": [
  {
   "cell_type": "code",
   "execution_count": 33,
   "metadata": {
    "collapsed": false
   },
   "outputs": [
    {
     "name": "stdout",
     "output_type": "stream",
     "text": [
      "[u'Id', u',', u'DocNumber', u',', u'MetadataSubject', u',', u'MetadataTo', u',', u'MetadataFrom', u',']\n"
     ]
    }
   ],
   "source": [
    "import nltk\n",
    "from nltk.corpus import PlaintextCorpusReader\n",
    "\n",
    "# First define a corpus from the files we have about the mails:\n",
    "corpus_root = 'C:\\Users\\Toshiba1\\Desktop\\hillary-clinton-emails'\n",
    "clintonmails = PlaintextCorpusReader(corpus_root, '.*')\n",
    "\n",
    "# Then make every file a list of its words:\n",
    "Aliases = clintonmails.words('Aliases.csv')\n",
    "EmailReceivers = clintonmails.words('EmailReceivers.csv')\n",
    "Emails = list(clintonmails.words('Emails.csv'))\n",
    "Persons = clintonmails.words('Persons.csv')\n",
    "\n",
    "print Emails[:10]"
   ]
  },
  {
   "cell_type": "code",
   "execution_count": null,
   "metadata": {
    "collapsed": false
   },
   "outputs": [],
   "source": [
    "# Task: Which countries were most mentioned by hillary? \n",
    "# First we need a list of countries. We just use the Gazetteer List\n",
    "from nltk.corpus import gazetteers\n",
    "countries = gazetteers.words('countries.txt')\n",
    "\n",
    "# Check every word in the emails if it is a country:\n",
    "countries_mentioned = []\n",
    "for w in Emails:\n",
    "    if w in countries:\n",
    "        countries_mentioned = countries_mentioned + [w]\n",
    "\n",
    "freq_countries = FreqDist(countries_mentioned)\n",
    "print \"Most mentioned countries are: \" + freq_countries[0:5]"
   ]
  },
  {
   "cell_type": "code",
   "execution_count": null,
   "metadata": {
    "collapsed": true
   },
   "outputs": [],
   "source": []
  }
 ],
 "metadata": {
  "anaconda-cloud": {},
  "kernelspec": {
   "display_name": "Python [default]",
   "language": "python",
   "name": "python2"
  },
  "language_info": {
   "codemirror_mode": {
    "name": "ipython",
    "version": 2
   },
   "file_extension": ".py",
   "mimetype": "text/x-python",
   "name": "python",
   "nbconvert_exporter": "python",
   "pygments_lexer": "ipython2",
   "version": "2.7.12"
  }
 },
 "nbformat": 4,
 "nbformat_minor": 1
}
