{
 "cells": [
  {
   "cell_type": "code",
   "execution_count": 57,
   "metadata": {
    "collapsed": false
   },
   "outputs": [],
   "source": [
    "import nltk\n",
    "from nltk.corpus import PlaintextCorpusReader\n",
    "\n",
    "# First define a corpus from the files we have about the mails:\n",
    "corpus_root = 'C:\\Users\\Toshiba1\\Desktop\\hillary-clinton-emails'\n",
    "clintonmails = PlaintextCorpusReader(corpus_root, '.*')\n",
    "\n",
    "# Then make every file a list of its words:\n",
    "Aliases = clintonmails.words('Aliases.csv')\n",
    "EmailReceivers = clintonmails.words('EmailReceivers.csv')\n",
    "Emails = clintonmails.words('Emails.csv')\n",
    "Persons = clintonmails.words('Persons.csv')"
   ]
  },
  {
   "cell_type": "code",
   "execution_count": 64,
   "metadata": {
    "collapsed": false
   },
   "outputs": [
    {
     "name": "stdout",
     "output_type": "stream",
     "text": [
      "(u'US', 2995)\n",
      "(u'Haiti', 2430)\n",
      "(u'Israel', 2373)\n",
      "(u'Afghanistan', 1722)\n",
      "(u'Iran', 1684)\n"
     ]
    }
   ],
   "source": [
    "# Task: Which countries were most mentioned by hillary? \n",
    "# First we need a list of countries. We just use the Gazetteer List\n",
    "from nltk.corpus import gazetteers\n",
    "from operator import itemgetter\n",
    "countries = gazetteers.words('countries.txt')\n",
    "\n",
    "Emails_as_list = list(Emails)\n",
    "\n",
    "# Check every word in the emails if it is a country:\n",
    "countries_mentioned = []\n",
    "for w in Emails_as_list:\n",
    "    if w in countries:\n",
    "        countries_mentioned = countries_mentioned + [w]\n",
    "\n",
    "country_set = set(countries_mentioned)\n",
    "country_frequenz = []\n",
    "for c in country_set:\n",
    "    counter = 0\n",
    "    for b in countries_mentioned:\n",
    "        if c == b:\n",
    "            counter = counter + 1\n",
    "    country_frequenz = country_frequenz + [(c, counter)]\n",
    "    \n",
    "# Find the 5 most mentioned countries:\n",
    "print sorted(country_frequenz, key = itemgetter(1))[-1]\n",
    "print sorted(country_frequenz, key = itemgetter(1))[-2]\n",
    "print sorted(country_frequenz, key = itemgetter(1))[-3]\n",
    "print sorted(country_frequenz, key = itemgetter(1))[-4]\n",
    "print sorted(country_frequenz, key = itemgetter(1))[-5]\n",
    "    "
   ]
  },
  {
   "cell_type": "code",
   "execution_count": null,
   "metadata": {
    "collapsed": false
   },
   "outputs": [],
   "source": []
  },
  {
   "cell_type": "code",
   "execution_count": null,
   "metadata": {
    "collapsed": true
   },
   "outputs": [],
   "source": []
  }
 ],
 "metadata": {
  "anaconda-cloud": {},
  "kernelspec": {
   "display_name": "Python [default]",
   "language": "python",
   "name": "python2"
  },
  "language_info": {
   "codemirror_mode": {
    "name": "ipython",
    "version": 2
   },
   "file_extension": ".py",
   "mimetype": "text/x-python",
   "name": "python",
   "nbconvert_exporter": "python",
   "pygments_lexer": "ipython2",
   "version": "2.7.12"
  }
 },
 "nbformat": 4,
 "nbformat_minor": 1
}
