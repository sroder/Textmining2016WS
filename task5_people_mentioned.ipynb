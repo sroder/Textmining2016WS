{
 "cells": [
  {
   "cell_type": "code",
   "execution_count": null,
   "metadata": {
    "collapsed": true
   },
   "outputs": [],
   "source": [
    "#People Mentioned:\n",
    "from nltk.corpus import names\n",
    "from operator import itemgetter\n",
    "male = list(names.words('male.txt'))\n",
    "female = list(names.words('female.txt'))\n",
    "names = male + female\n",
    "mentioned_people = []\n",
    "for w in Emails:\n",
    "    if w in names:\n",
    "        mentioned_people = mentioned_people + [w]"
   ]
  },
  {
   "cell_type": "code",
   "execution_count": null,
   "metadata": {
    "collapsed": true
   },
   "outputs": [],
   "source": [
    "#Count the people mentioned:\n",
    "mentioned_people_counted = []\n",
    "for m in mentioned_people:\n",
    "    mentioned_people_counted = mentioned_people_counted + [(m, mentioned_people.count(m))]\n",
    "    \n",
    "print sorted(set(mentioned_people_counted), key = itemgetter(1)).reverse()"
   ]
  }
 ],
 "metadata": {
  "anaconda-cloud": {},
  "kernelspec": {
   "display_name": "Python [default]",
   "language": "python",
   "name": "python2"
  },
  "language_info": {
   "codemirror_mode": {
    "name": "ipython",
    "version": 2
   },
   "file_extension": ".py",
   "mimetype": "text/x-python",
   "name": "python",
   "nbconvert_exporter": "python",
   "pygments_lexer": "ipython2",
   "version": "2.7.12"
  }
 },
 "nbformat": 4,
 "nbformat_minor": 1
}
