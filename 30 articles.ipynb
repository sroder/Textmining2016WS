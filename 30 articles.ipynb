{
 "cells": [
  {
   "cell_type": "code",
   "execution_count": 1,
   "metadata": {
    "collapsed": false
   },
   "outputs": [],
   "source": [
    "#only using pattern\n",
    "from pattern.web import Wikipedia\n",
    "list_of_articles = [\"Golden Ratio\",\"Pi\",\"Pythagoras theorem\",\"Thales'_theorem\",\"Half-Life\",\"Euler's_theorem\",\"Redox\",\"Sine Wave\",\"Tangent\",\"Logarithm\",\"Lunar distance (astronomy)\",\"Sphere\",\"Cuboid\",\"Triangle inequality\",\"Geometric_series\",\"Prime_number_theorem\",\"Cone\",\"Rectangle\",\"Ellipse\",\"Fourier Series\",\"Greatest common divisor\",\"Fibonacci number\",\"Intercept theorem\",\"Theory of relativity\",\"Magnetic Field\",\"Photoelectric effect\",\"De_Morgan_laws\",\"Normal Distribution\",\"Bayes Theorem\",\"Mean\"]\n"
   ]
  },
  {
   "cell_type": "code",
   "execution_count": 2,
   "metadata": {
    "collapsed": false,
    "scrolled": true
   },
   "outputs": [
    {
     "name": "stdout",
     "output_type": "stream",
     "text": [
      "Golden Ratio\n",
      "----------------------------------------------------------------------------------------\n",
      "Pi\n",
      "----------------------------------------------------------------------------------------\n",
      "Pythagoras theorem\n",
      "----------------------------------------------------------------------------------------\n",
      "Thales'_theorem\n",
      "----------------------------------------------------------------------------------------\n",
      "Half-Life\n",
      "----------------------------------------------------------------------------------------\n",
      "Euler's_theorem\n",
      "----------------------------------------------------------------------------------------\n",
      "Redox\n",
      "----------------------------------------------------------------------------------------\n",
      "Sine Wave\n",
      "----------------------------------------------------------------------------------------\n",
      "Tangent\n",
      "----------------------------------------------------------------------------------------\n",
      "Logarithm\n",
      "----------------------------------------------------------------------------------------\n",
      "Lunar distance (astronomy)\n",
      "----------------------------------------------------------------------------------------\n",
      "Sphere\n",
      "----------------------------------------------------------------------------------------\n",
      "Cuboid\n",
      "----------------------------------------------------------------------------------------\n",
      "Triangle inequality\n",
      "----------------------------------------------------------------------------------------\n",
      "Geometric_series\n",
      "----------------------------------------------------------------------------------------\n",
      "Prime_number_theorem\n",
      "----------------------------------------------------------------------------------------\n",
      "Cone\n",
      "----------------------------------------------------------------------------------------\n",
      "Rectangle\n",
      "----------------------------------------------------------------------------------------\n",
      "Ellipse\n",
      "----------------------------------------------------------------------------------------\n",
      "Fourier Series\n",
      "----------------------------------------------------------------------------------------\n",
      "Greatest common divisor\n",
      "----------------------------------------------------------------------------------------\n",
      "Fibonacci number\n",
      "----------------------------------------------------------------------------------------\n",
      "Intercept theorem\n",
      "----------------------------------------------------------------------------------------\n",
      "Theory of relativity\n",
      "----------------------------------------------------------------------------------------\n",
      "Magnetic Field\n",
      "----------------------------------------------------------------------------------------\n",
      "Photoelectric effect\n",
      "----------------------------------------------------------------------------------------\n",
      "De_Morgan_laws\n",
      "----------------------------------------------------------------------------------------\n",
      "Normal Distribution\n",
      "----------------------------------------------------------------------------------------\n",
      "Bayes Theorem\n",
      "----------------------------------------------------------------------------------------\n",
      "Mean\n",
      "----------------------------------------------------------------------------------------\n"
     ]
    }
   ],
   "source": [
    "pages = []\n",
    "page = \"\"\n",
    "for item in list_of_articles:\n",
    "    print item\n",
    "    print \"----------------------------------------------------------------------------------------\"\n",
    "    article = Wikipedia(language=\"en\").search(item, throttle=10)\n",
    "    page = article.source\n",
    "#  print \"----------------------------------------------------------------------------------------\"\n",
    "    pages = pages + [page]\n",
    "#page = article.string\n",
    "\n",
    "#print page"
   ]
  },
  {
   "cell_type": "code",
   "execution_count": 18,
   "metadata": {
    "collapsed": false
   },
   "outputs": [],
   "source": [
    "#print article.source"
   ]
  },
  {
   "cell_type": "code",
   "execution_count": 41,
   "metadata": {
    "collapsed": false
   },
   "outputs": [],
   "source": [
    "import re\n",
    "description = ''\n",
    "for i in pages[5:6]:\n",
    "    #description = re.findall(r'<p>.*</p>', i, re.DOTALL)\n",
    "    description = re.findall(r'<p>.*</p>', i)\n",
    "    equations = re.findall(r'<annotation.*</annotation>', i)\n",
    "    \n",
    "    \n",
    "#print description\n",
    "    #print equations\n",
    "    \n",
    "    #extract everything between <p> and </p>\n",
    "    #<annotation encoding=\"application/x-tex\"\n",
    "    #for every page, making a list \n",
    "    # then filter further for parameters and description and equation\n",
    "    # convert the findings in above step to JSON format"
   ]
  },
  {
   "cell_type": "code",
   "execution_count": 42,
   "metadata": {
    "collapsed": false
   },
   "outputs": [
    {
     "name": "stdout",
     "output_type": "stream",
     "text": [
      "---------------------------------------------------------------------\n",
      "In number theory, Euler's theorem (also known as the Fermat–Euler theorem or Euler's totient theorem) states that if n and a are coprime positive integers, then\n",
      "---------------------------------------------------------------------\n",
      "The converse of Euler's theorem is also true: if the above congruence is true, then a and n must be coprime.\n",
      "---------------------------------------------------------------------\n",
      "The theorem is a generalization of Fermat's little theorem, and is further generalized by Carmichael's theorem.\n",
      "---------------------------------------------------------------------\n",
      "The theorem may be used to easily reduce large powers modulo n. For example, consider finding the ones place decimal digit of 7222, i.e. 7222 (mod 10). Note that 7 and 10 are coprime, and φ(10) = 4. So Euler's theorem yields 74 ≡ 1 (mod 10), and we get 7222 ≡ 74 × 55 + 2 ≡ (74)55 × 72 ≡ 155 × 72 ≡ 49 ≡ 9 (mod 10).\n",
      "---------------------------------------------------------------------\n",
      "In general, when reducing a power of a modulo n (where a and n are coprime), one needs to work modulo φ(n) in the exponent of a:\n",
      "---------------------------------------------------------------------\n",
      "Euler's theorem also forms the basis of the RSA encryption system, where the net result of first encrypting a plaintext message, then later decrypting it, amounts to exponentiating a large input number by kφ(n) + 1, for some positive integer k. Euler's theorem then guarantees that the decrypted output number is equal to the original input number, giving back the plaintext.\n",
      "---------------------------------------------------------------------\n",
      "\n",
      "---------------------------------------------------------------------\n",
      "\n",
      "---------------------------------------------------------------------\n",
      "2. There is also a direct proof:[4][5] Let R = {x1, x2, ..., xφ(n)} be a reduced residue system (mod n) and let a be any integer coprime to n. The proof hinges on the fundamental fact that multiplication by a permutes the xi: in other words if axj ≡ axk (mod n) then j = k. (This law of cancellation is proved in the article multiplicative group of integers modulo n.[6]) That is, the sets R and aR = {ax1, ax2, ..., axφ(n)}, considered as sets of congruence classes (mod n), are identical (as sets - they may be listed in different orders), so the product of all the numbers in R is congruent (mod n) to the product of all the numbers in aR:\n",
      "---------------------------------------------------------------------\n",
      "The Euler quotient of an integer a with respect to n is defined as:\n",
      "---------------------------------------------------------------------\n",
      "The special case of Euler quotient is Fermat quotient, it happens when n is prime.\n",
      "---------------------------------------------------------------------\n",
      "The least base b &gt; 1 which n is a Wieferich number are\n",
      "---------------------------------------------------------------------\n",
      "The Disquisitiones Arithmeticae has been translated from Gauss's Ciceronian Latin into English and German. The German edition includes all of his papers on number theory: all the proofs of quadratic reciprocity, the determination of the sign of the Gauss sum, the investigations into biquadratic reciprocity, and unpublished notes.\n"
     ]
    }
   ],
   "source": [
    "#from BeautifulSoup import BeautifulSoup\n",
    "#from html2text import html2text\n",
    "for schritt in description:\n",
    "    print \"---------------------------------------------------------------------\"\n",
    "    schritt_string = schritt.encode('utf-8')\n",
    "    #soup = BeautifulSoup(schritt_string)\n",
    "    schritt_string = re.sub(r'<.*?>','',schritt_string)\n",
    "    #schritt_string = html2text(schritt_string)\n",
    "    print schritt_string"
   ]
  },
  {
   "cell_type": "code",
   "execution_count": 55,
   "metadata": {
    "collapsed": false
   },
   "outputs": [
    {
     "name": "stdout",
     "output_type": "stream",
     "text": [
      "[]\n"
     ]
    }
   ],
   "source": [
    "#this is just an attempt to extract part of source code where <p> and <annotaion> are together\n",
    "#!!!!! but failing\n",
    "import re\n",
    "description = ''\n",
    "for i in pages[5:6]:\n",
    "    #description = re.findall(r'<p>.*</p>', i, re.DOTALL)\n",
    "    description = re.findall(r'<p>.*</annotation>', i)\n",
    "    #equations = re.findall(r'<annotation.*</annotation>', i)\n",
    "    print description"
   ]
  },
  {
   "cell_type": "code",
   "execution_count": 48,
   "metadata": {
    "collapsed": true
   },
   "outputs": [],
   "source": [
    "#now that paragaraphs and annotations are extracted.\n",
    "# problem is to group them together\n",
    "# also find about paraemters\n",
    "# at the end storing all in a ball"
   ]
  },
  {
   "cell_type": "code",
   "execution_count": null,
   "metadata": {
    "collapsed": true
   },
   "outputs": [],
   "source": []
  }
 ],
 "metadata": {
  "kernelspec": {
   "display_name": "Python 2",
   "language": "python",
   "name": "python2"
  },
  "language_info": {
   "codemirror_mode": {
    "name": "ipython",
    "version": 2
   },
   "file_extension": ".py",
   "mimetype": "text/x-python",
   "name": "python",
   "nbconvert_exporter": "python",
   "pygments_lexer": "ipython2",
   "version": "2.7.12"
  }
 },
 "nbformat": 4,
 "nbformat_minor": 1
}
