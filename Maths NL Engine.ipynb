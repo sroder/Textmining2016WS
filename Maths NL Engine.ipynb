{
 "cells": [
  {
   "cell_type": "code",
   "execution_count": 2,
   "metadata": {
    "collapsed": true
   },
   "outputs": [],
   "source": [
    "import nltk\n",
    "import sympy\n",
    "from sympy import *"
   ]
  },
  {
   "cell_type": "code",
   "execution_count": 3,
   "metadata": {
    "collapsed": false
   },
   "outputs": [],
   "source": [
    "#Train a classifier to "
   ]
  },
  {
   "cell_type": "code",
   "execution_count": 4,
   "metadata": {
    "collapsed": false
   },
   "outputs": [],
   "source": [
    "#Find the variables in a mathematical expression:\n",
    "\n",
    "#The following are all variables that are allowed. They have to consist of just ONE letter.\n",
    "variables = ['A', 'B', 'C', 'D', 'E', 'F', 'G', 'H', 'I', 'J', 'K', 'L', 'M', 'N', 'O', 'P',\n",
    "            'Q', 'R', 'S', 'T', 'U', 'V', 'W', 'X', 'Y', 'Z', 'a', 'b', 'c', 'd', 'e', 'f', 'g', 'h', 'i', 'j',\n",
    "            'k', 'l', 'm', 'n', 'o', 'p', 'q', 'r', 's', 't', 'u', 'v', 'w', 'x', 'y', 'z']\n",
    "#ToDo greek letters\n",
    "\n",
    "#The following function finds all symbols we need\n",
    "def find_var(math_expr):\n",
    "    used_var = \"\"\n",
    "    #experiment part start\n",
    "    if 'exp' in math_expr:\n",
    "        math_expr = math_expr.replace('exp', '')\n",
    "    if 'log' in math_expr:\n",
    "        math_expr = math_expr.replace('log', '')\n",
    "    if 'sin' in math_expr:\n",
    "        math_expr = math_expr.replace('sin', '')\n",
    "    if 'cos' in math_expr:\n",
    "        math_expr = math_expr.replace('cos', '')    \n",
    "    #experiment part over\n",
    "    for token in math_expr:\n",
    "        if token in variables:\n",
    "            used_var = used_var + token + ' '\n",
    "    used_var = used_var[:-1]\n",
    "    return used_var"
   ]
  },
  {
   "cell_type": "code",
   "execution_count": 5,
   "metadata": {
    "collapsed": false
   },
   "outputs": [],
   "source": [
    "#Extract the mathematical expression from the input\n",
    "#ToDo classifier to find maths --> ask andreas\n",
    "def extract_maths(string):\n",
    "    string = string.split(\" \") #string is now a list with 'words'.\n",
    "    math_expr = ''\n",
    "    for s in string:\n",
    "        if 'x' in s:\n",
    "            math_expr = s\n",
    "            #ToDo: Check if the equation is typed in the right way.\n",
    "            #ToDo: how is it parsed in a format that sympy can work with it? \n",
    "            #Find all the variables:\n",
    "            #Delete the last token if it is a punctuation mark.\n",
    "        elif '[' in s:\n",
    "            math_expr = s\n",
    "            #ToDo: check if matrix is typed in the right way.\n",
    "        else: \n",
    "            math_expr = '' #Let wikipedia do the job\n",
    "        \n",
    "    return math_expr      "
   ]
  },
  {
   "cell_type": "code",
   "execution_count": 34,
   "metadata": {
    "collapsed": false
   },
   "outputs": [],
   "source": [
    "#Do the maths:\n",
    "def compute(string):\n",
    "    math_expr = extract_maths(string)\n",
    "    dev_string = string.split(\" \")\n",
    "    \n",
    "    #ToDo Synonyms for key words\n",
    "    if 'derivative' in dev_string:\n",
    "        #ToDo derivative in different variables\n",
    "        vars()[find_var(math_expr)] = symbols(find_var(math_expr))\n",
    "        math_expr = sympify(math_expr)\n",
    "        print diff(math_expr) #Derivative works without saying a variable, if variable is x\n",
    "    elif 'integral' in dev_string:\n",
    "        vars()[find_var(math_expr)] = symbols(find_var(math_expr))\n",
    "        math_expr = sympify(math_expr)\n",
    "        print integrate(math_expr)\n",
    "    else:\n",
    "        print \"Sorry, but I don't know what you are asking for.\""
   ]
  },
  {
   "cell_type": "code",
   "execution_count": 37,
   "metadata": {
    "collapsed": false
   },
   "outputs": [
    {
     "name": "stdout",
     "output_type": "stream",
     "text": [
      "16*x**2*cos(4*x**2) - sin(x) + 2*sin(4*x**2)\n"
     ]
    }
   ],
   "source": [
    "input = \"What is the derivative of cos(x)+2*x*sin(4*x**2)\"\n",
    "compute(input)"
   ]
  },
  {
   "cell_type": "code",
   "execution_count": 40,
   "metadata": {
    "collapsed": false
   },
   "outputs": [
    {
     "name": "stdout",
     "output_type": "stream",
     "text": [
      "a**2 + b**2 - c**2\n"
     ]
    }
   ],
   "source": [
    "x, y = symbols('x,y')\n",
    "string = \"a**2+b**2-c**2\"\n",
    "expr = a**2 + b**2 - c**2\n",
    "string = sympify(string)\n",
    "print string"
   ]
  }
 ],
 "metadata": {
  "anaconda-cloud": {},
  "kernelspec": {
   "display_name": "Python [default]",
   "language": "python",
   "name": "python2"
  },
  "language_info": {
   "codemirror_mode": {
    "name": "ipython",
    "version": 2
   },
   "file_extension": ".py",
   "mimetype": "text/x-python",
   "name": "python",
   "nbconvert_exporter": "python",
   "pygments_lexer": "ipython2",
   "version": "2.7.12"
  }
 },
 "nbformat": 4,
 "nbformat_minor": 1
}
