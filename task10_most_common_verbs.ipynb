{
 "cells": [
  {
   "cell_type": "code",
   "execution_count": null,
   "metadata": {
    "collapsed": true
   },
   "outputs": [],
   "source": [
    "#IDs of Emails received and sent\n",
    "mails_received = []\n",
    "mails_sent = []\n",
    "counter = 1\n",
    "for r in receivers:\n",
    "    if r == 80:\n",
    "        mails_received = mails_received + [counter]\n",
    "    else: \n",
    "        mails_sent = mails_sent + [counter]\n",
    "    counter = counter + 1"
   ]
  },
  {
   "cell_type": "code",
   "execution_count": null,
   "metadata": {
    "collapsed": true
   },
   "outputs": [],
   "source": [
    "#Find the verbs in the mails:\n",
    "Emails_tagged = nltk.pos_tag(Emails)\n",
    "verbs = []\n",
    "for w in Emails_tagged:\n",
    "    if w[1].startswith('V'):\n",
    "        verbs = verbs + [w]"
   ]
  },
  {
   "cell_type": "code",
   "execution_count": null,
   "metadata": {
    "collapsed": true
   },
   "outputs": [],
   "source": [
    "#As a next step we tried to find the ID of the mail in that every verb is and\n",
    "#check, if it is in the mails_sent or in the mails_received list.\n",
    "#None of our attempts worked and then we ran out of time... but this was the idea. "
   ]
  }
 ],
 "metadata": {
  "anaconda-cloud": {},
  "kernelspec": {
   "display_name": "Python [default]",
   "language": "python",
   "name": "python2"
  },
  "language_info": {
   "codemirror_mode": {
    "name": "ipython",
    "version": 2
   },
   "file_extension": ".py",
   "mimetype": "text/x-python",
   "name": "python",
   "nbconvert_exporter": "python",
   "pygments_lexer": "ipython2",
   "version": "2.7.12"
  }
 },
 "nbformat": 4,
 "nbformat_minor": 1
}
