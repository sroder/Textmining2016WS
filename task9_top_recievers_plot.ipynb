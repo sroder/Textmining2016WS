{
 "cells": [
  {
   "cell_type": "code",
   "execution_count": null,
   "metadata": {
    "collapsed": true
   },
   "outputs": [],
   "source": [
    "#Top recievers:\n",
    "from __future__ import division\n",
    "\n",
    "receivers_as_list = list(EmailReceivers)\n",
    "length = int(len(receivers_as_list)/5)\n",
    "\n",
    "receivers = []\n",
    "for x in range(length - 1):\n",
    "    receivers = receivers + [int(receivers_as_list[9 + x*5])]\n",
    "\n",
    "receivers_set = set(receivers)\n",
    "\n",
    "receivers_frequenz = []\n",
    "for s in receivers_set:\n",
    "        counter = 0\n",
    "        for b in receivers:\n",
    "            if s == b:\n",
    "                counter = counter + 1\n",
    "        receivers_frequenz = receivers_frequenz +[(int(s), counter)]\n",
    "\n",
    "just_frequenz = []\n",
    "for a in receivers_frequenz:\n",
    "    just_frequenz = just_frequenz + [a[1]]"
   ]
  },
  {
   "cell_type": "code",
   "execution_count": null,
   "metadata": {
    "collapsed": true
   },
   "outputs": [],
   "source": [
    "#plot the receivers:\n",
    "import matplotlib.pyplot as plt\n",
    "import numpy as np\n",
    "\n",
    "plt.plot(list(receivers_set), just_frequenz, 'ro')\n",
    "plt.xlabel('Receivers ID')\n",
    "plt.ylabel('Emails received')\n",
    "plt.show()"
   ]
  }
 ],
 "metadata": {
  "anaconda-cloud": {},
  "kernelspec": {
   "display_name": "Python [default]",
   "language": "python",
   "name": "python2"
  },
  "language_info": {
   "codemirror_mode": {
    "name": "ipython",
    "version": 2
   },
   "file_extension": ".py",
   "mimetype": "text/x-python",
   "name": "python",
   "nbconvert_exporter": "python",
   "pygments_lexer": "ipython2",
   "version": "2.7.12"
  }
 },
 "nbformat": 4,
 "nbformat_minor": 1
}
