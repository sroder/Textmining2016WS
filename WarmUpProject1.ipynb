{
 "cells": [
  {
   "cell_type": "code",
   "execution_count": 2,
   "metadata": {
    "collapsed": true
   },
   "outputs": [],
   "source": [
    "import nltk"
   ]
  },
  {
   "cell_type": "code",
   "execution_count": 3,
   "metadata": {
    "collapsed": false
   },
   "outputs": [],
   "source": [
    "#Get the Gender of the name: Male, Female\n",
    "def gender_features(word):\n",
    "     return {'last_letter': word[-1]}\n",
    "    \n",
    "from nltk.corpus import names\n",
    "labeled_names = ([(name, 'male') for name in names.words('male.txt')] +\n",
    "     [(name, 'female') for name in names.words('female.txt')])\n",
    "\n",
    "import random\n",
    "random.shuffle(labeled_names)\n",
    "\n",
    "featuresets = [(gender_features(n), gender) for (n, gender) in labeled_names]\n",
    "train_set, test_set = featuresets[500:], featuresets[:500]\n",
    "classifier = nltk.NaiveBayesClassifier.train(train_set)"
   ]
  },
  {
   "cell_type": "code",
   "execution_count": 4,
   "metadata": {
    "collapsed": false
   },
   "outputs": [
    {
     "name": "stdout",
     "output_type": "stream",
     "text": [
      "[('Kathi', 'NNP', 0, 0), ('went', 'VBD', 0, 1), ('to', 'TO', 0, 2), ('the', 'DT', 0, 3), ('theater.', 'NN', 0, 4), ('She', 'PRP', 1, 5), ('plays', 'VBZ', 1, 6), ('guitar.', 'NN', 1, 7), ('It', 'PRP', 2, 8), ('is', 'VBZ', 2, 9), ('made', 'VBN', 2, 10), ('of', 'IN', 2, 11), ('wood.', 'NN', 2, 12)]\n"
     ]
    }
   ],
   "source": [
    "def preparetext(text):\n",
    "    text = text.split(\" \")\n",
    "    text = nltk.pos_tag(text)\n",
    "    sentindex = 0\n",
    "    preptext = []\n",
    "    \n",
    "    # Give the words an index which tells what sentence they appear in:\n",
    "    for w in text:\n",
    "        w = (w[0], w[1], sentindex)\n",
    "        preptext = preptext + [w]\n",
    "        if w[0][-1] == \".\":\n",
    "            sentindex = sentindex + 1\n",
    "        if w[0][-1] == \"!\":\n",
    "            sentindex = sentindex + 1\n",
    "        if w[0][-1] == \"?\":\n",
    "            sentindex = sentindex + 1\n",
    "    \n",
    "    # Give the words an index that tells their position in the whole text:\n",
    "    index = 0\n",
    "    preparedtext = []\n",
    "    for w in preptext:\n",
    "        w = (w[0], w[1], w[2], index)\n",
    "        preparedtext = preparedtext + [w]\n",
    "        index = index + 1\n",
    "    \n",
    "    return preparedtext\n",
    "    \n",
    "    \n",
    "test = \"Kathi went to the theater. She plays guitar. It is made of wood.\"\n",
    "print preparetext(test)"
   ]
  },
  {
   "cell_type": "code",
   "execution_count": 5,
   "metadata": {
    "collapsed": false
   },
   "outputs": [
    {
     "name": "stdout",
     "output_type": "stream",
     "text": [
      "[('Kathi', 0, 0, 'female', 'singular'), ('theater.', 0, 4, 'neutral', 'singular'), ('guitar.', 1, 7, 'neutral', 'singular'), ('wood.', 2, 12, 'neutral', 'singular')]\n"
     ]
    }
   ],
   "source": [
    "# extract all nouns of a text\n",
    "def extractnouns(text):\n",
    "    text = preparetext(text)\n",
    "    nouns1 = []\n",
    "    for w in text:\n",
    "        if w[1].startswith('NN') == True:\n",
    "            nouns1 = nouns1 + [w]\n",
    "    \n",
    "    # Give the nouns a gender:\n",
    "    nouns2 = []\n",
    "    for w in nouns1:\n",
    "        if w[0][0].isupper() == True:\n",
    "            nouns2 = nouns2 + [(w[0], w[1], w[2], w[3], classifier.classify(gender_features(w[0])))]\n",
    "        else:\n",
    "            nouns2 = nouns2 + [(w[0], w[1], w[2], w[3], 'neutral')]\n",
    "     \n",
    "    # Give the nouns a numerus:\n",
    "    nouns = []\n",
    "    for w in nouns2:\n",
    "        if w[1].endswith('S'):\n",
    "            nouns = nouns + [(w[0], w[2], w[3], w[4], 'plural')]\n",
    "        else:\n",
    "            nouns = nouns + [(w[0], w[2],  w[3], w[4], 'singular')]\n",
    "    \n",
    "    \n",
    "    return nouns\n",
    "\n",
    "print extractnouns(test)"
   ]
  },
  {
   "cell_type": "code",
   "execution_count": 6,
   "metadata": {
    "collapsed": true
   },
   "outputs": [],
   "source": [
    "# a list of all possible pronouns: (pronoun, gender, numerus)\n",
    "\n",
    "pronounslist = [('he', 'male', 'singular'),('she', 'female', 'singular'),\n",
    "            ('it', 'neutral', 'singular'), ('they', 'no', 'plural'),\n",
    "            ('her', 'female', 'singlular'), ('him', 'male', 'singlular'),\n",
    "            ('them', 'no', 'plural'),\n",
    "            ('his', 'male', 'singular'), ('her', 'female', 'singular'), ('their', 'no', 'plural'),\n",
    "            ('hers', 'female', 'singular'),\n",
    "            ('its', 'neutral', 'singular'), ('theirs', 'no', 'plural')]"
   ]
  },
  {
   "cell_type": "code",
   "execution_count": 7,
   "metadata": {
    "collapsed": false
   },
   "outputs": [
    {
     "name": "stdout",
     "output_type": "stream",
     "text": [
      "[('She', 1, 5, 'female', 'singular'), ('It', 2, 8, 'neutral', 'singular')]\n"
     ]
    }
   ],
   "source": [
    "# extract all pronouns of a text:\n",
    "def extractpronouns(text):\n",
    "    text = preparetext(text)\n",
    "    pronouns1 = []\n",
    "    for w in text:\n",
    "        if w[1].startswith('PRP') == True:\n",
    "            pronouns1 = pronouns1 + [w]\n",
    "            \n",
    "    #give a gender and a numerus to the pronouns:\n",
    "    pronouns = []\n",
    "    for w in pronouns1:\n",
    "        for p in pronounslist:\n",
    "            if w[0].lower() == p[0]:\n",
    "                pronouns = pronouns + [(w[0], w[2], w[3], p[1], p[2])]\n",
    "    \n",
    "    return pronouns\n",
    "\n",
    "print extractpronouns(test)"
   ]
  },
  {
   "cell_type": "code",
   "execution_count": 8,
   "metadata": {
    "collapsed": false
   },
   "outputs": [
    {
     "name": "stdout",
     "output_type": "stream",
     "text": [
      "2\n"
     ]
    }
   ],
   "source": [
    "# How much do a pronoun and a noun match? \n",
    "def match(a, b):\n",
    "    factor = 0\n",
    "    # according to gender:\n",
    "    if a[3] == b[3]:\n",
    "        factor = factor + 1\n",
    "    # according to numerus:\n",
    "    if a[4] == b[4]:\n",
    "        factor = factor + 1\n",
    "    return factor\n",
    "\n",
    "print match(extractpronouns(test)[1], extractnouns(test)[3])"
   ]
  },
  {
   "cell_type": "code",
   "execution_count": 22,
   "metadata": {
    "collapsed": false
   },
   "outputs": [
    {
     "name": "stdout",
     "output_type": "stream",
     "text": [
      "[('Kathi', 0, 0, 'female', 'singular'), ('theater.', 0, 4, 'neutral', 'singular'), ('guitar.', 1, 7, 'neutral', 'singular'), ('wood.', 2, 12, 'neutral', 'singular')]\n",
      "[('She', 1, 5, 'female', 'singular'), ('It', 2, 8, 'neutral', 'singular')]\n",
      "She (word nr. 6) referrs to Kathi (word nr. 1)\n",
      "It (word nr. 9) referrs to guitar. (word nr. 8)\n"
     ]
    }
   ],
   "source": [
    "def protonouns(text):\n",
    "    nouns = extractnouns(text)\n",
    "    pronouns = extractpronouns(text)\n",
    "    \n",
    "    print nouns\n",
    "    print pronouns\n",
    "    \n",
    "    # Check every pronoun in the list:\n",
    "    for p in pronouns:\n",
    "        \n",
    "        possiblenouns = []\n",
    "        for n in nouns:\n",
    "            if p[1] == n[1]:\n",
    "                possiblenouns = possiblenouns + [(n[0], n[1], n[2], n[3], n[4], match(p,n))]\n",
    "            if (p[1] - 1) == n[1]:\n",
    "                possiblenouns = possiblenouns + [(n[0], n[1], n[2], n[3], n[4], match(p,n))]\n",
    "            if (p[1] - 2) == n[1]:\n",
    "                possiblenouns = possiblenouns + [(n[0], n[1], n[2], n[3], n[4], match(p,n))]\n",
    "        \n",
    "        # Look for the best choice:\n",
    "        candidates = []\n",
    "        for n in possiblenouns:\n",
    "            if n[5] == 2:\n",
    "                candidates = candidates + [n]\n",
    "            \n",
    "        if candidates == []:\n",
    "            for n in possiblenouns: \n",
    "                if n[5] == 1:\n",
    "                    candidates = candidates + [n]\n",
    "                    \n",
    "        #Choose the nearest of the candidates:\n",
    "        cand_with_distance = []\n",
    "        for n in candidates:\n",
    "            distance = abs(p[2] - n[2])\n",
    "            cand_with_distance = cand_with_distance + [(n[0], n[1], n[2], n[3], n[4], n[5], distance)]\n",
    "            \n",
    "        bestchoice = cand_with_distance[0]\n",
    "        for n in cand_with_distance:\n",
    "            if n[6] < bestchoice[6]:\n",
    "                bestchoice = n\n",
    "        \n",
    "        \n",
    "        if bestchoice[5] == 2:\n",
    "            print p[0] + \" (word nr. \" + str(p[2] + 1) + \") referrs to \" + bestchoice[0] + \" (word nr. \" + str(bestchoice[2] + 1) + \")\"\n",
    "        if bestchoice[5] < 2:\n",
    "            print p[0] + \" (word nr. \" + str(p[2] + 1) + \") referrs to \" + bestchoice[0] + \" (word nr. \" + str(bestchoice[2] + 1) + \"). But this may be wrong.\"\n",
    "    \n",
    "        \n",
    "                \n",
    "protonouns(test)"
   ]
  },
  {
   "cell_type": "code",
   "execution_count": 27,
   "metadata": {
    "collapsed": false
   },
   "outputs": [
    {
     "name": "stdout",
     "output_type": "stream",
     "text": [
      "[('bag.', 0, 5, 'neutral', 'singular'), ('cute.', 1, 8, 'neutral', 'plural'), ('Jessy', 2, 10, 'female', 'singular')]\n",
      "[('It', 1, 6, 'neutral', 'singular'), ('she', 2, 13, 'female', 'singular'), ('it', 2, 15, 'neutral', 'singular')]\n",
      "It (word nr. 7) referrs to bag. (word nr. 6)\n",
      "she (word nr. 14) referrs to Jessy (word nr. 11)\n",
      "it (word nr. 16) referrs to bag. (word nr. 6)\n"
     ]
    }
   ],
   "source": [
    "test2 = \"I really like your new bag. It looks cute. But Jessy does not, she thinks it is ugly.\"\n",
    "protonouns(test2)"
   ]
  },
  {
   "cell_type": "code",
   "execution_count": 30,
   "metadata": {
    "collapsed": false
   },
   "outputs": [
    {
     "name": "stdout",
     "output_type": "stream",
     "text": [
      "[('project', 0, 3, 'neutral', 'singular'), ('programming,', 1, 12, 'neutral', 'singular'), ('challenge.', 1, 17, 'neutral', 'singular')]\n",
      "[('It', 1, 6, 'neutral', 'singular'), ('it', 1, 14, 'neutral', 'singular')]\n",
      "It (word nr. 7) referrs to project (word nr. 4)\n",
      "it (word nr. 15) referrs to programming, (word nr. 13)\n"
     ]
    }
   ],
   "source": [
    "test3 = \"I think this project is finished. It was confusing, but i like programming, because it is a challenge.\"\n",
    "protonouns(test3)"
   ]
  },
  {
   "cell_type": "code",
   "execution_count": null,
   "metadata": {
    "collapsed": true
   },
   "outputs": [],
   "source": []
  }
 ],
 "metadata": {
  "anaconda-cloud": {},
  "kernelspec": {
   "display_name": "Python [default]",
   "language": "python",
   "name": "python2"
  },
  "language_info": {
   "codemirror_mode": {
    "name": "ipython",
    "version": 2
   },
   "file_extension": ".py",
   "mimetype": "text/x-python",
   "name": "python",
   "nbconvert_exporter": "python",
   "pygments_lexer": "ipython2",
   "version": "2.7.12"
  }
 },
 "nbformat": 4,
 "nbformat_minor": 1
}
