{
 "cells": [
  {
   "cell_type": "code",
   "execution_count": 1,
   "metadata": {
    "collapsed": false
   },
   "outputs": [],
   "source": [
    "#Use BeautifulSoup to get the APIs\n",
    "from bs4 import BeautifulSoup\n",
    "import urllib2\n",
    "import re"
   ]
  },
  {
   "cell_type": "code",
   "execution_count": 2,
   "metadata": {
    "collapsed": false
   },
   "outputs": [
    {
     "name": "stderr",
     "output_type": "stream",
     "text": [
      "C:\\Users\\Toshiba1\\Anaconda2\\lib\\site-packages\\bs4\\__init__.py:181: UserWarning: No parser was explicitly specified, so I'm using the best available HTML parser for this system (\"lxml\"). This usually isn't a problem, but if you run this code on another system, or in a different virtual environment, it may use a different parser and behave differently.\n",
      "\n",
      "The code that caused this warning is on line 174 of the file C:\\Users\\Toshiba1\\Anaconda2\\lib\\runpy.py. To get rid of this warning, change code that looks like this:\n",
      "\n",
      " BeautifulSoup([your markup])\n",
      "\n",
      "to this:\n",
      "\n",
      " BeautifulSoup([your markup], \"lxml\")\n",
      "\n",
      "  markup_type=markup_type))\n"
     ]
    }
   ],
   "source": [
    "url = \"http://docs.sympy.org/latest/genindex.html\"\n",
    "url = urllib2.urlopen(\"http://docs.sympy.org/latest/genindex.html\")\n",
    "content = url.read()\n",
    "soup = BeautifulSoup(content)\n",
    "table = soup.findAll(\"table\")\n",
    "table = table[1:]"
   ]
  },
  {
   "cell_type": "code",
   "execution_count": 3,
   "metadata": {
    "collapsed": false
   },
   "outputs": [],
   "source": [
    "sem_repr = open(\"semantical_repr.txt\", \"w\")"
   ]
  },
  {
   "cell_type": "code",
   "execution_count": 3,
   "metadata": {
    "collapsed": false,
    "scrolled": false
   },
   "outputs": [],
   "source": [
    "meth_names = []\n",
    "for t in table:\n",
    "    for row in t.findAll(\"a\"):\n",
    "        meth_names = meth_names + [(row.text, row.get('href'))]#row.text just takes the name of the link"
   ]
  },
  {
   "cell_type": "code",
   "execution_count": 4,
   "metadata": {
    "collapsed": false
   },
   "outputs": [
    {
     "name": "stdout",
     "output_type": "stream",
     "text": [
      "(u'acosh (class in sympy.functions.elementary.hyperbolic)', 'modules/functions/elementary.html#sympy.functions.elementary.hyperbolic.acosh')\n"
     ]
    }
   ],
   "source": [
    "#Filter out all attributes and methods:\n",
    "meth_names_filtered = []\n",
    "for m in meth_names:\n",
    "    if ('attribute' not in m[0]) & ('method' not in m[0]):\n",
    "        meth_names_filtered = meth_names_filtered + [m]\n",
    "        \n",
    "print meth_names_filtered[5]"
   ]
  },
  {
   "cell_type": "code",
   "execution_count": 5,
   "metadata": {
    "collapsed": false
   },
   "outputs": [
    {
     "name": "stdout",
     "output_type": "stream",
     "text": [
      "http://docs.sympy.org/latest/modules/functions/elementary.html#sympy.functions.elementary.trigonometric.acot\n"
     ]
    }
   ],
   "source": [
    "links_filtered = []\n",
    "for t in meth_names_filtered:\n",
    "    links_filtered.append(\"http://docs.sympy.org/latest/\" + t[1])\n",
    "    \n",
    "print links_filtered[6]"
   ]
  },
  {
   "cell_type": "code",
   "execution_count": 201,
   "metadata": {
    "collapsed": false
   },
   "outputs": [],
   "source": [
    "#Make a list with all html.codes of the links we want to follow\n",
    "pages = []\n",
    "for l in links_filtered[:20]:\n",
    "    req = urllib2.Request(l)\n",
    "    response = urllib2.urlopen(req)\n",
    "    page = response.read()\n",
    "    pages = pages + [page]"
   ]
  },
  {
   "cell_type": "code",
   "execution_count": 202,
   "metadata": {
    "collapsed": false
   },
   "outputs": [],
   "source": [
    "#Save them in files\n",
    "i = 0\n",
    "for p in pages:\n",
    "    f = open(meth_names_filtered[i][0]+'.txt', 'w')\n",
    "    f.write(p)\n",
    "    i = i+1\n",
    "    f.close()   "
   ]
  },
  {
   "cell_type": "code",
   "execution_count": 203,
   "metadata": {
    "collapsed": false
   },
   "outputs": [],
   "source": [
    "#Get the describtion, parameters and examples vor every function:\n",
    "\n",
    "dt_elements = []\n",
    "names = []\n",
    "i = 0\n",
    "for p in pages:\n",
    "    f = open(meth_names_filtered[i][0]+'.txt', 'r')\n",
    "    content = f.read()\n",
    "    soup = BeautifulSoup(content)\n",
    "    \n",
    "    name = str(meth_names_filtered[i][0].split(\" \")[0])\n",
    "    if name[-1] == \")\":\n",
    "        name = name[0:-2]\n",
    "     \n",
    "    names = names + [name]\n",
    "    \n",
    "    dt = soup.findAll('dt', {'id' : meth_names_filtered[i][1].split('#')[1]})\n",
    "    dt_elements = dt_elements + dt\n",
    "            \n",
    "    i = i + 1"
   ]
  },
  {
   "cell_type": "code",
   "execution_count": 181,
   "metadata": {
    "collapsed": false
   },
   "outputs": [
    {
     "data": {
      "text/plain": [
       "<dl class=\"function\">\\n<dt id=\"sympy.matrices.matrices.a2idx\">\\n<tt class=\"descclassname\">sympy.matrices.matrices.</tt><tt class=\"descname\">a2idx</tt><big>(</big><em>j</em>, <em>n=None</em><big>)</big><a class=\"reference internal\" href=\"../../_modules/sympy/matrices/matrices.html#a2idx\"><span class=\"viewcode-link\">[source]</span></a><a class=\"headerlink\" href=\"#sympy.matrices.matrices.a2idx\" title=\"Permalink to this definition\">\\xb6</a></dt>\\n<dd><p>Return integer after making positive and validating against n.</p>\\n</dd></dl>"
      ]
     },
     "execution_count": 181,
     "metadata": {},
     "output_type": "execute_result"
    }
   ],
   "source": [
    "dt_elements[0].parent"
   ]
  },
  {
   "cell_type": "code",
   "execution_count": 135,
   "metadata": {
    "collapsed": false
   },
   "outputs": [
    {
     "name": "stdout",
     "output_type": "stream",
     "text": [
      "['a2idx', 'AbelianGroup', 'Abs', 'accepted_latex_functions', 'acos', 'acosh', 'acot', 'acoth', 'acsc', 'Add', 'airyai', 'airyaiprime', 'AiryBase', 'airybi', 'airybiprime', 'algebraic', 'AlgebraicField', 'AlgebraicNumber', 'allhints', 'AlternatingGroup']\n"
     ]
    }
   ],
   "source": [
    "descriptions = []\n",
    "for elements in div_elements:\n",
    "    for e in elements:\n",
    "        dd = e.find('p')\n",
    "        if (dd != -1) and (dd != None):\n",
    "            descriptions = descriptions + [dd.string]\n",
    "            \n",
    "print names"
   ]
  },
  {
   "cell_type": "code",
   "execution_count": 204,
   "metadata": {
    "collapsed": false
   },
   "outputs": [
    {
     "name": "stdout",
     "output_type": "stream",
     "text": [
      "<p>Return integer after making positive and validating against n.</p>\n",
      "\n",
      "\n",
      "<p>Returns the direct product of cyclic groups with the given orders.</p>\n",
      "\n",
      "\n",
      "<p>Return the absolute value of the argument.</p>\n",
      "\n",
      "\n",
      "<p>list() -&gt; new empty list\r\n",
      "list(iterable) -&gt; new list initialized from iterable’s items</p>\n",
      "\n",
      "\n",
      "<p>The inverse cosine function.</p>\n",
      "\n",
      "\n",
      "<p>The inverse hyperbolic cosine function.</p>\n",
      "\n",
      "\n",
      "<p>The inverse cotangent function.</p>\n",
      "\n",
      "\n",
      "<p>The inverse hyperbolic cotangent function.</p>\n",
      "\n",
      "\n",
      "<p>The inverse cosecant function.</p>\n",
      "\n",
      "\n",
      "<p>Efficiently extract the coefficient of a summation.</p>\n",
      "\n",
      "\n",
      "<p>The Airy function <span class=\"math\">\\(\\operatorname{Ai}\\)</span> of the first kind.</p>\n",
      "\n",
      "\n",
      "<p>The derivative <span class=\"math\">\\(\\operatorname{Ai}^\\prime\\)</span> of the Airy function of the first kind.</p>\n",
      "\n",
      "\n",
      "<p>Abstract base class for Airy functions.</p>\n",
      "\n",
      "\n",
      "<p>The Airy function <span class=\"math\">\\(\\operatorname{Bi}\\)</span> of the second kind.</p>\n",
      "\n",
      "\n",
      "<p>The derivative <span class=\"math\">\\(\\operatorname{Bi}^\\prime\\)</span> of the Airy function of the first kind.</p>\n",
      "\n",
      "\n",
      "<p>A class for representing algebraic number fields.</p>\n",
      "\n",
      "\n",
      "<p>Class for representing algebraic numbers in SymPy.</p>\n",
      "\n",
      "\n",
      "<p>This is a list of hints in the order that they should be preferred by\r\n",
      "<a class=\"reference internal\" href=\"#sympy.solvers.ode.classify_ode\" title=\"sympy.solvers.ode.classify_ode\"><tt class=\"xref py py-meth docutils literal\"><span class=\"pre\">classify_ode()</span></tt></a>. In general, hints earlier in the\r\n",
      "list should produce simpler solutions than those later in the list (for\r\n",
      "ODEs that fit both).  For now, the order of this list is based on empirical\r\n",
      "observations by the developers of SymPy.</p>\n",
      "\n",
      "\n",
      "<p>Generates the alternating group on <tt class=\"docutils literal\"><span class=\"pre\">n</span></tt> elements as a permutation group.</p>\n",
      "\n",
      "\n"
     ]
    }
   ],
   "source": [
    "descriptions = []\n",
    "for e in dt_elements:\n",
    "    parent = e.parent\n",
    "    #print parent.get(\"class\")\n",
    "    \n",
    "    for line in parent:\n",
    "            dd = line.find('p')\n",
    "            if (dd != None) and (dd != -1):\n",
    "                print dd\n",
    "                print '\\n'\n",
    "                \n",
    "    #if parent.get(\"class\") == ['function']:\n",
    "    #    for line in parent:\n",
    "    #        dd = line.find('p')\n",
    "    #        if (dd != None) and (dd != -1):\n",
    "    #            print dd\n",
    "    #elif parent.get(\"class\") == ['class']:\n",
    "    #    for line in parent:\n",
    "    #        dd = line.find('p')\n",
    "    #        if (dd != None) and (dd != -1):\n",
    "    #            print dd\n",
    "    \n",
    "    #for e in parent:\n",
    "    #    p = e.find('p')\n",
    "    #    if (p != None) and (p != -1):\n",
    "    #        descriptions = descriptions + [p.string]"
   ]
  },
  {
   "cell_type": "code",
   "execution_count": 116,
   "metadata": {
    "collapsed": false
   },
   "outputs": [
    {
     "name": "stdout",
     "output_type": "stream",
     "text": [
      "<dd><p>The inverse cosine function.</p>\n",
      "<p>Returns the arc cosine of x (measured in radians).</p>\n",
      "<div class=\"admonition-see-also admonition seealso\">\n",
      "<p class=\"first admonition-title\">See also</p>\n",
      "<p class=\"last\"><tt class=\"xref py py-obj docutils literal\"><span class=\"pre\">sin</span></tt>, <tt class=\"xref py py-obj docutils literal\"><span class=\"pre\">csc</span></tt>, <tt class=\"xref py py-obj docutils literal\"><span class=\"pre\">cos</span></tt>, <tt class=\"xref py py-obj docutils literal\"><span class=\"pre\">sec</span></tt>, <tt class=\"xref py py-obj docutils literal\"><span class=\"pre\">tan</span></tt>, <tt class=\"xref py py-obj docutils literal\"><span class=\"pre\">cot</span></tt>, <tt class=\"xref py py-obj docutils literal\"><span class=\"pre\">asin</span></tt>, <tt class=\"xref py py-obj docutils literal\"><span class=\"pre\">acsc</span></tt>, <tt class=\"xref py py-obj docutils literal\"><span class=\"pre\">asec</span></tt>, <tt class=\"xref py py-obj docutils literal\"><span class=\"pre\">atan</span></tt>, <tt class=\"xref py py-obj docutils literal\"><span class=\"pre\">acot</span></tt>, <tt class=\"xref py py-obj docutils literal\"><span class=\"pre\">atan2</span></tt></p>\n",
      "</div>\n",
      "<p class=\"rubric\">Notes</p>\n",
      "<p><tt class=\"docutils literal\"><span class=\"pre\">acos(x)</span></tt> will evaluate automatically in the cases\r\n",
      "<tt class=\"docutils literal\"><span class=\"pre\">oo</span></tt>, <tt class=\"docutils literal\"><span class=\"pre\">-oo</span></tt>, <tt class=\"docutils literal\"><span class=\"pre\">0</span></tt>, <tt class=\"docutils literal\"><span class=\"pre\">1</span></tt>, <tt class=\"docutils literal\"><span class=\"pre\">-1</span></tt>.</p>\n",
      "<p><tt class=\"docutils literal\"><span class=\"pre\">acos(zoo)</span></tt> evaluates to <tt class=\"docutils literal\"><span class=\"pre\">zoo</span></tt>\r\n",
      "(see note in :py:class`sympy.functions.elementary.trigonometric.asec`)</p>\n",
      "<p class=\"rubric\">References</p>\n",
      "<table class=\"docutils citation\" frame=\"void\" id=\"r141\" rules=\"none\">\n",
      "<colgroup><col class=\"label\"></col><col></col></colgroup>\n",
      "<tbody valign=\"top\">\n",
      "<tr><td class=\"label\"><a class=\"fn-backref\" href=\"#id26\">[R141]</a></td><td><a class=\"reference external\" href=\"http://en.wikipedia.org/wiki/Inverse_trigonometric_functions\">http://en.wikipedia.org/wiki/Inverse_trigonometric_functions</a></td></tr>\n",
      "</tbody>\n",
      "</table>\n",
      "<table class=\"docutils citation\" frame=\"void\" id=\"r142\" rules=\"none\">\n",
      "<colgroup><col class=\"label\"></col><col></col></colgroup>\n",
      "<tbody valign=\"top\">\n",
      "<tr><td class=\"label\"><a class=\"fn-backref\" href=\"#id27\">[R142]</a></td><td><a class=\"reference external\" href=\"http://dlmf.nist.gov/4.23\">http://dlmf.nist.gov/4.23</a></td></tr>\n",
      "</tbody>\n",
      "</table>\n",
      "<table class=\"docutils citation\" frame=\"void\" id=\"r143\" rules=\"none\">\n",
      "<colgroup><col class=\"label\"></col><col></col></colgroup>\n",
      "<tbody valign=\"top\">\n",
      "<tr><td class=\"label\"><a class=\"fn-backref\" href=\"#id28\">[R143]</a></td><td><a class=\"reference external\" href=\"http://functions.wolfram.com/ElementaryFunctions/ArcCos\">http://functions.wolfram.com/ElementaryFunctions/ArcCos</a></td></tr>\n",
      "</tbody>\n",
      "</table>\n",
      "<p class=\"rubric\">Examples</p>\n",
      "<div class=\"highlight-python\"><div class=\"highlight\"><pre><span></span><span class=\"gp\">&gt;&gt;&gt; </span><span class=\"kn\">from</span> <span class=\"nn\">sympy</span> <span class=\"kn\">import</span> <span class=\"n\">acos</span><span class=\"p\">,</span> <span class=\"n\">oo</span><span class=\"p\">,</span> <span class=\"n\">pi</span>\r\n",
      "<span class=\"gp\">&gt;&gt;&gt; </span><span class=\"n\">acos</span><span class=\"p\">(</span><span class=\"mi\">1</span><span class=\"p\">)</span>\r\n",
      "<span class=\"go\">0</span>\r\n",
      "<span class=\"gp\">&gt;&gt;&gt; </span><span class=\"n\">acos</span><span class=\"p\">(</span><span class=\"mi\">0</span><span class=\"p\">)</span>\r\n",
      "<span class=\"go\">pi/2</span>\r\n",
      "<span class=\"gp\">&gt;&gt;&gt; </span><span class=\"n\">acos</span><span class=\"p\">(</span><span class=\"n\">oo</span><span class=\"p\">)</span>\r\n",
      "<span class=\"go\">oo*I</span>\r\n",
      "</pre></div>\n",
      "</div>\n",
      "<dl class=\"method\">\n",
      "<dt id=\"sympy.functions.elementary.trigonometric.acos.inverse\">\n",
      "<tt class=\"descname\">inverse</tt><big>(</big><em>argindex=1</em><big>)</big><a class=\"reference internal\" href=\"../../_modules/sympy/functions/elementary/trigonometric.html#acos.inverse\"><span class=\"viewcode-link\">[source]</span></a><a class=\"headerlink\" href=\"#sympy.functions.elementary.trigonometric.acos.inverse\" title=\"Permalink to this definition\">¶</a></dt>\n",
      "<dd><p>Returns the inverse of this function.</p>\n",
      "</dd></dl>\n",
      "</dd>\n",
      "\n",
      "\n",
      "<dd><p>The inverse hyperbolic cosine function.</p>\n",
      "<ul class=\"simple\">\n",
      "<li>acosh(x) -&gt; Returns the inverse hyperbolic cosine of x</li>\n",
      "</ul>\n",
      "<div class=\"admonition-see-also admonition seealso\">\n",
      "<p class=\"first admonition-title\">See also</p>\n",
      "<p class=\"last\"><tt class=\"xref py py-obj docutils literal\"><span class=\"pre\">asinh</span></tt>, <tt class=\"xref py py-obj docutils literal\"><span class=\"pre\">atanh</span></tt>, <tt class=\"xref py py-obj docutils literal\"><span class=\"pre\">cosh</span></tt></p>\n",
      "</div>\n",
      "<dl class=\"method\">\n",
      "<dt id=\"sympy.functions.elementary.hyperbolic.acosh.inverse\">\n",
      "<tt class=\"descname\">inverse</tt><big>(</big><em>argindex=1</em><big>)</big><a class=\"reference internal\" href=\"../../_modules/sympy/functions/elementary/hyperbolic.html#acosh.inverse\"><span class=\"viewcode-link\">[source]</span></a><a class=\"headerlink\" href=\"#sympy.functions.elementary.hyperbolic.acosh.inverse\" title=\"Permalink to this definition\">¶</a></dt>\n",
      "<dd><p>Returns the inverse of this function.</p>\n",
      "</dd></dl>\n",
      "</dd>\n",
      "\n",
      "\n",
      "<dd><p>The inverse cotangent function.</p>\n",
      "<p>Returns the arc cotangent of x (measured in radians).</p>\n",
      "<div class=\"admonition-see-also admonition seealso\">\n",
      "<p class=\"first admonition-title\">See also</p>\n",
      "<p class=\"last\"><tt class=\"xref py py-obj docutils literal\"><span class=\"pre\">sin</span></tt>, <tt class=\"xref py py-obj docutils literal\"><span class=\"pre\">csc</span></tt>, <tt class=\"xref py py-obj docutils literal\"><span class=\"pre\">cos</span></tt>, <tt class=\"xref py py-obj docutils literal\"><span class=\"pre\">sec</span></tt>, <tt class=\"xref py py-obj docutils literal\"><span class=\"pre\">tan</span></tt>, <tt class=\"xref py py-obj docutils literal\"><span class=\"pre\">cot</span></tt>, <tt class=\"xref py py-obj docutils literal\"><span class=\"pre\">asin</span></tt>, <tt class=\"xref py py-obj docutils literal\"><span class=\"pre\">acsc</span></tt>, <tt class=\"xref py py-obj docutils literal\"><span class=\"pre\">acos</span></tt>, <tt class=\"xref py py-obj docutils literal\"><span class=\"pre\">asec</span></tt>, <tt class=\"xref py py-obj docutils literal\"><span class=\"pre\">atan</span></tt>, <tt class=\"xref py py-obj docutils literal\"><span class=\"pre\">atan2</span></tt></p>\n",
      "</div>\n",
      "<p class=\"rubric\">References</p>\n",
      "<table class=\"docutils citation\" frame=\"void\" id=\"r147\" rules=\"none\">\n",
      "<colgroup><col class=\"label\"></col><col></col></colgroup>\n",
      "<tbody valign=\"top\">\n",
      "<tr><td class=\"label\"><a class=\"fn-backref\" href=\"#id32\">[R147]</a></td><td><a class=\"reference external\" href=\"http://en.wikipedia.org/wiki/Inverse_trigonometric_functions\">http://en.wikipedia.org/wiki/Inverse_trigonometric_functions</a></td></tr>\n",
      "</tbody>\n",
      "</table>\n",
      "<table class=\"docutils citation\" frame=\"void\" id=\"r148\" rules=\"none\">\n",
      "<colgroup><col class=\"label\"></col><col></col></colgroup>\n",
      "<tbody valign=\"top\">\n",
      "<tr><td class=\"label\"><a class=\"fn-backref\" href=\"#id33\">[R148]</a></td><td><a class=\"reference external\" href=\"http://dlmf.nist.gov/4.23\">http://dlmf.nist.gov/4.23</a></td></tr>\n",
      "</tbody>\n",
      "</table>\n",
      "<table class=\"docutils citation\" frame=\"void\" id=\"r149\" rules=\"none\">\n",
      "<colgroup><col class=\"label\"></col><col></col></colgroup>\n",
      "<tbody valign=\"top\">\n",
      "<tr><td class=\"label\"><a class=\"fn-backref\" href=\"#id34\">[R149]</a></td><td><a class=\"reference external\" href=\"http://functions.wolfram.com/ElementaryFunctions/ArcCot\">http://functions.wolfram.com/ElementaryFunctions/ArcCot</a></td></tr>\n",
      "</tbody>\n",
      "</table>\n",
      "<dl class=\"method\">\n",
      "<dt id=\"sympy.functions.elementary.trigonometric.acot.inverse\">\n",
      "<tt class=\"descname\">inverse</tt><big>(</big><em>argindex=1</em><big>)</big><a class=\"reference internal\" href=\"../../_modules/sympy/functions/elementary/trigonometric.html#acot.inverse\"><span class=\"viewcode-link\">[source]</span></a><a class=\"headerlink\" href=\"#sympy.functions.elementary.trigonometric.acot.inverse\" title=\"Permalink to this definition\">¶</a></dt>\n",
      "<dd><p>Returns the inverse of this function.</p>\n",
      "</dd></dl>\n",
      "</dd>\n",
      "\n",
      "\n",
      "<dd><p>The inverse hyperbolic cotangent function.</p>\n",
      "<ul class=\"simple\">\n",
      "<li>acoth(x) -&gt; Returns the inverse hyperbolic cotangent of x</li>\n",
      "</ul>\n",
      "<dl class=\"method\">\n",
      "<dt id=\"sympy.functions.elementary.hyperbolic.acoth.inverse\">\n",
      "<tt class=\"descname\">inverse</tt><big>(</big><em>argindex=1</em><big>)</big><a class=\"reference internal\" href=\"../../_modules/sympy/functions/elementary/hyperbolic.html#acoth.inverse\"><span class=\"viewcode-link\">[source]</span></a><a class=\"headerlink\" href=\"#sympy.functions.elementary.hyperbolic.acoth.inverse\" title=\"Permalink to this definition\">¶</a></dt>\n",
      "<dd><p>Returns the inverse of this function.</p>\n",
      "</dd></dl>\n",
      "</dd>\n",
      "\n",
      "\n",
      "<dd><p>The inverse cosecant function.</p>\n",
      "<p>Returns the arc cosecant of x (measured in radians).</p>\n",
      "<div class=\"admonition-see-also admonition seealso\">\n",
      "<p class=\"first admonition-title\">See also</p>\n",
      "<p class=\"last\"><tt class=\"xref py py-obj docutils literal\"><span class=\"pre\">sin</span></tt>, <tt class=\"xref py py-obj docutils literal\"><span class=\"pre\">csc</span></tt>, <tt class=\"xref py py-obj docutils literal\"><span class=\"pre\">cos</span></tt>, <tt class=\"xref py py-obj docutils literal\"><span class=\"pre\">sec</span></tt>, <tt class=\"xref py py-obj docutils literal\"><span class=\"pre\">tan</span></tt>, <tt class=\"xref py py-obj docutils literal\"><span class=\"pre\">cot</span></tt>, <tt class=\"xref py py-obj docutils literal\"><span class=\"pre\">asin</span></tt>, <tt class=\"xref py py-obj docutils literal\"><span class=\"pre\">acos</span></tt>, <tt class=\"xref py py-obj docutils literal\"><span class=\"pre\">asec</span></tt>, <tt class=\"xref py py-obj docutils literal\"><span class=\"pre\">atan</span></tt>, <tt class=\"xref py py-obj docutils literal\"><span class=\"pre\">acot</span></tt>, <tt class=\"xref py py-obj docutils literal\"><span class=\"pre\">atan2</span></tt></p>\n",
      "</div>\n",
      "<p class=\"rubric\">Notes</p>\n",
      "<p>acsc(x) will evaluate automatically in the cases\r\n",
      "oo, -oo, 0, 1, -1.</p>\n",
      "<p class=\"rubric\">References</p>\n",
      "<table class=\"docutils citation\" frame=\"void\" id=\"r154\" rules=\"none\">\n",
      "<colgroup><col class=\"label\"></col><col></col></colgroup>\n",
      "<tbody valign=\"top\">\n",
      "<tr><td class=\"label\"><a class=\"fn-backref\" href=\"#id40\">[R154]</a></td><td><a class=\"reference external\" href=\"http://en.wikipedia.org/wiki/Inverse_trigonometric_functions\">http://en.wikipedia.org/wiki/Inverse_trigonometric_functions</a></td></tr>\n",
      "</tbody>\n",
      "</table>\n",
      "<table class=\"docutils citation\" frame=\"void\" id=\"r155\" rules=\"none\">\n",
      "<colgroup><col class=\"label\"></col><col></col></colgroup>\n",
      "<tbody valign=\"top\">\n",
      "<tr><td class=\"label\"><a class=\"fn-backref\" href=\"#id41\">[R155]</a></td><td><a class=\"reference external\" href=\"http://dlmf.nist.gov/4.23\">http://dlmf.nist.gov/4.23</a></td></tr>\n",
      "</tbody>\n",
      "</table>\n",
      "<table class=\"docutils citation\" frame=\"void\" id=\"r156\" rules=\"none\">\n",
      "<colgroup><col class=\"label\"></col><col></col></colgroup>\n",
      "<tbody valign=\"top\">\n",
      "<tr><td class=\"label\"><a class=\"fn-backref\" href=\"#id42\">[R156]</a></td><td><a class=\"reference external\" href=\"http://functions.wolfram.com/ElementaryFunctions/ArcCsc\">http://functions.wolfram.com/ElementaryFunctions/ArcCsc</a></td></tr>\n",
      "</tbody>\n",
      "</table>\n",
      "<p class=\"rubric\">Examples</p>\n",
      "<div class=\"highlight-python\"><div class=\"highlight\"><pre><span></span><span class=\"gp\">&gt;&gt;&gt; </span><span class=\"kn\">from</span> <span class=\"nn\">sympy</span> <span class=\"kn\">import</span> <span class=\"n\">acsc</span><span class=\"p\">,</span> <span class=\"n\">oo</span><span class=\"p\">,</span> <span class=\"n\">pi</span>\r\n",
      "<span class=\"gp\">&gt;&gt;&gt; </span><span class=\"n\">acsc</span><span class=\"p\">(</span><span class=\"mi\">1</span><span class=\"p\">)</span>\r\n",
      "<span class=\"go\">pi/2</span>\r\n",
      "<span class=\"gp\">&gt;&gt;&gt; </span><span class=\"n\">acsc</span><span class=\"p\">(</span><span class=\"o\">-</span><span class=\"mi\">1</span><span class=\"p\">)</span>\r\n",
      "<span class=\"go\">-pi/2</span>\r\n",
      "</pre></div>\n",
      "</div>\n",
      "<dl class=\"method\">\n",
      "<dt id=\"sympy.functions.elementary.trigonometric.acsc.inverse\">\n",
      "<tt class=\"descname\">inverse</tt><big>(</big><em>argindex=1</em><big>)</big><a class=\"reference internal\" href=\"../../_modules/sympy/functions/elementary/trigonometric.html#acsc.inverse\"><span class=\"viewcode-link\">[source]</span></a><a class=\"headerlink\" href=\"#sympy.functions.elementary.trigonometric.acsc.inverse\" title=\"Permalink to this definition\">¶</a></dt>\n",
      "<dd><p>Returns the inverse of this function.</p>\n",
      "</dd></dl>\n",
      "</dd>\n",
      "\n",
      "\n"
     ]
    },
    {
     "data": {
      "text/plain": [
       "1"
      ]
     },
     "execution_count": 116,
     "metadata": {},
     "output_type": "execute_result"
    }
   ],
   "source": [
    "dd_el=[]\n",
    "for e in div_elements:\n",
    "    dd_el = dd_el + [e.find('dd')]\n",
    "\n",
    "for e in dd_el:\n",
    "    counter = 0\n",
    "    if (e != -1) and (e != None):\n",
    "        print e\n",
    "        print '\\n'\n",
    "        counter = counter + 1\n",
    "counter"
   ]
  },
  {
   "cell_type": "code",
   "execution_count": 137,
   "metadata": {
    "collapsed": false
   },
   "outputs": [
    {
     "data": {
      "text/plain": [
       "'sympy.matrices.matrices.a2idx'"
      ]
     },
     "execution_count": 137,
     "metadata": {},
     "output_type": "execute_result"
    }
   ],
   "source": [
    "meth_names_filtered[0][1].split('#')[1]"
   ]
  }
 ],
 "metadata": {
  "anaconda-cloud": {},
  "kernelspec": {
   "display_name": "Python [default]",
   "language": "python",
   "name": "python2"
  },
  "language_info": {
   "codemirror_mode": {
    "name": "ipython",
    "version": 2
   },
   "file_extension": ".py",
   "mimetype": "text/x-python",
   "name": "python",
   "nbconvert_exporter": "python",
   "pygments_lexer": "ipython2",
   "version": "2.7.12"
  }
 },
 "nbformat": 4,
 "nbformat_minor": 1
}
