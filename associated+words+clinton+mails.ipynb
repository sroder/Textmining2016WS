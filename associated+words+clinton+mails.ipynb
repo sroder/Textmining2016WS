{
 "cells": [
  {
   "cell_type": "code",
   "execution_count": 10,
   "metadata": {
    "collapsed": false
   },
   "outputs": [],
   "source": [
    "from gensim.models import word2vec\n",
    "from gensim.models import phrases"
   ]
  },
  {
   "cell_type": "code",
   "execution_count": 2,
   "metadata": {
    "collapsed": false
   },
   "outputs": [],
   "source": [
    "with open('filtered.txt') as fin:                                                 \n",
    "    raw_text = fin.read() "
   ]
  },
  {
   "cell_type": "code",
   "execution_count": 3,
   "metadata": {
    "collapsed": false
   },
   "outputs": [],
   "source": [
    "import re\n",
    "sentences = re.split('\\?+!+|!+\\?+|\\.+|!+|\\?+', raw_text) \n",
    "# Get rid of empty sentences                                                    \n",
    "sentences = [s.strip() for s in sentences if len(s.strip()) > 0]                \n",
    "                                                                                \n",
    "# Tokenize sentences (simple space tokenizer) and lower case them               \n",
    "sentences = [[w.lower() for w in s.split()] for s in sentences]"
   ]
  },
  {
   "cell_type": "code",
   "execution_count": 4,
   "metadata": {
    "collapsed": false
   },
   "outputs": [],
   "source": [
    "model = word2vec.Word2Vec(sentences, size=100, window=5, min_count=5, workers=4)\n",
    "fname = 'w2v_model'\n",
    "model.save(fname)\n",
    "model = word2vec.Word2Vec.load(fname)  # you can continue training with the loaded model!"
   ]
  },
  {
   "cell_type": "code",
   "execution_count": 5,
   "metadata": {
    "collapsed": false
   },
   "outputs": [],
   "source": [
    "model = word2vec.Word2Vec(sentences) #Using default parameters"
   ]
  },
  {
   "cell_type": "code",
   "execution_count": 18,
   "metadata": {
    "collapsed": false
   },
   "outputs": [
    {
     "data": {
      "text/plain": [
       "[('china', 0.6407232880592346),\n",
       " ('britain', 0.6199634671211243),\n",
       " ('simply', 0.5436448454856873),\n",
       " ('fact', 0.543491005897522),\n",
       " ('europe', 0.5415704250335693),\n",
       " ('something', 0.5379425883293152),\n",
       " ('america', 0.5315679907798767),\n",
       " ('itself', 0.5307047963142395),\n",
       " ('libya', 0.5290037989616394),\n",
       " ('belhaj', 0.5245124697685242)]"
      ]
     },
     "execution_count": 18,
     "metadata": {},
     "output_type": "execute_result"
    }
   ],
   "source": [
    "model.most_similar(positive=['germany','politics'], negative=['refugee'],topn=10)"
   ]
  },
  {
   "cell_type": "code",
   "execution_count": 23,
   "metadata": {
    "collapsed": false
   },
   "outputs": [
    {
     "data": {
      "text/plain": [
       "[('turkey', 0.748149573802948),\n",
       " ('gaza', 0.6800134778022766),\n",
       " ('violence', 0.6703066229820251),\n",
       " ('tensions', 0.6696614623069763),\n",
       " ('al-qaida', 0.6611040234565735),\n",
       " ('missiles', 0.6512821912765503),\n",
       " ('lebanon', 0.6374988555908203),\n",
       " ('egypt', 0.6322802305221558),\n",
       " ('hamas', 0.6200709939002991),\n",
       " ('north', 0.6198924779891968)]"
      ]
     },
     "execution_count": 23,
     "metadata": {},
     "output_type": "execute_result"
    }
   ],
   "source": [
    "model.most_similar(positive=['russia','girls'], negative=['sports'])"
   ]
  },
  {
   "cell_type": "code",
   "execution_count": 24,
   "metadata": {
    "collapsed": false
   },
   "outputs": [
    {
     "data": {
      "text/plain": [
       "[('politics', 0.6982272863388062),\n",
       " ('rise', 0.6540929079055786),\n",
       " ('regime', 0.6413799524307251),\n",
       " ('terrorism', 0.634152889251709),\n",
       " ('particular', 0.6261063814163208),\n",
       " ('perceptions', 0.6233303546905518),\n",
       " ('conflict', 0.6165014505386353),\n",
       " ('movement', 0.6130422353744507),\n",
       " ('internal', 0.6104315519332886),\n",
       " ('expression', 0.600134015083313)]"
      ]
     },
     "execution_count": 24,
     "metadata": {},
     "output_type": "execute_result"
    }
   ],
   "source": [
    "model.most_similar(positive=['libya','religion'])"
   ]
  },
  {
   "cell_type": "code",
   "execution_count": 30,
   "metadata": {
    "collapsed": false
   },
   "outputs": [],
   "source": [
    "bigram_transformer = phrases.Phrases(sentences)"
   ]
  },
  {
   "cell_type": "code",
   "execution_count": 31,
   "metadata": {
    "collapsed": false
   },
   "outputs": [
    {
     "name": "stderr",
     "output_type": "stream",
     "text": [
      "/usr/local/lib/python2.7/dist-packages/gensim/models/phrases.py:248: UserWarning: For a faster implementation, use the gensim.models.phrases.Phraser class\n",
      "  warnings.warn(\"For a faster implementation, use the gensim.models.phrases.Phraser class\")\n"
     ]
    }
   ],
   "source": [
    "newmodel = word2vec.Word2Vec(bigram_transformer[sentences], size=100)"
   ]
  },
  {
   "cell_type": "code",
   "execution_count": 32,
   "metadata": {
    "collapsed": false
   },
   "outputs": [
    {
     "data": {
      "text/plain": [
       "[(u'britain', 0.8420191407203674),\n",
       " (u'europe', 0.773232638835907),\n",
       " (u'france', 0.7528963088989258),\n",
       " (u'north', 0.745996356010437),\n",
       " (u'itself', 0.7386266589164734),\n",
       " (u'west', 0.7364928722381592),\n",
       " (u'america', 0.7354759573936462),\n",
       " (u'reduced', 0.7332255840301514),\n",
       " (u'turkey', 0.7191616892814636),\n",
       " (u'kingdom', 0.7185978889465332)]"
      ]
     },
     "execution_count": 32,
     "metadata": {},
     "output_type": "execute_result"
    }
   ],
   "source": [
    "newmodel.most_similar('germany')"
   ]
  },
  {
   "cell_type": "code",
   "execution_count": 33,
   "metadata": {
    "collapsed": false
   },
   "outputs": [
    {
     "data": {
      "text/plain": [
       "[(u'turkey', 0.8714385628700256),\n",
       " (u'europe', 0.8451454043388367),\n",
       " (u'china', 0.8439612984657288),\n",
       " (u'france', 0.8376826643943787),\n",
       " (u'britain', 0.8356916904449463),\n",
       " (u'japan', 0.8335832953453064),\n",
       " (u'syria', 0.8065494298934937),\n",
       " (u'brazil', 0.8043485879898071),\n",
       " (u'egypt', 0.7985306978225708),\n",
       " (u'saudi_arabia', 0.7865334749221802)]"
      ]
     },
     "execution_count": 33,
     "metadata": {},
     "output_type": "execute_result"
    }
   ],
   "source": [
    "newmodel.most_similar(['germany','russia'])"
   ]
  },
  {
   "cell_type": "code",
   "execution_count": 35,
   "metadata": {
    "collapsed": false
   },
   "outputs": [
    {
     "data": {
      "text/plain": [
       "0.49128628862198653"
      ]
     },
     "execution_count": 35,
     "metadata": {},
     "output_type": "execute_result"
    }
   ],
   "source": [
    "newmodel.similarity('germany','libya')"
   ]
  },
  {
   "cell_type": "code",
   "execution_count": 38,
   "metadata": {
    "collapsed": false
   },
   "outputs": [
    {
     "data": {
      "text/plain": [
       "[(u'europe', 0.6986700892448425),\n",
       " (u'america', 0.6869738698005676),\n",
       " (u'egypt', 0.662086546421051),\n",
       " (u'power', 0.6524552702903748),\n",
       " (u'government', 0.6384715437889099),\n",
       " (u'conflict', 0.6370975375175476),\n",
       " (u'coups', 0.6287075281143188),\n",
       " (u'tripoli', 0.6241613626480103),\n",
       " (u'economy', 0.6227881908416748),\n",
       " (u'leadership', 0.6226937174797058)]"
      ]
     },
     "execution_count": 38,
     "metadata": {},
     "output_type": "execute_result"
    }
   ],
   "source": [
    "newmodel.most_similar(positive=['libya','religion'],negative=['sports'])"
   ]
  },
  {
   "cell_type": "code",
   "execution_count": null,
   "metadata": {
    "collapsed": true
   },
   "outputs": [],
   "source": []
  }
 ],
 "metadata": {
  "anaconda-cloud": {},
  "kernelspec": {
   "display_name": "Python 2",
   "language": "python",
   "name": "python2"
  },
  "language_info": {
   "codemirror_mode": {
    "name": "ipython",
    "version": 2
   },
   "file_extension": ".py",
   "mimetype": "text/x-python",
   "name": "python",
   "nbconvert_exporter": "python",
   "pygments_lexer": "ipython2",
   "version": "2.7.12"
  }
 },
 "nbformat": 4,
 "nbformat_minor": 1
}
