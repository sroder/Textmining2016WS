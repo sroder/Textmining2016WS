{
 "cells": [
  {
   "cell_type": "code",
   "execution_count": null,
   "metadata": {
    "collapsed": true
   },
   "outputs": [],
   "source": [
    "import nltk\n",
    "from nltk.corpus import PlaintextCorpusReader\n",
    "\n",
    "# First define a corpus from the files we have about the mails:\n",
    "corpus_root = 'C:\\Users\\Toshiba1\\Desktop\\Uni-Zeig\\hillary-clinton-emails'\n",
    "clintonmails = PlaintextCorpusReader(corpus_root, '.*')\n",
    "\n",
    "# Then make every file a list of its words:\n",
    "Aliases = clintonmails.words('Aliases.csv')\n",
    "EmailReceivers = clintonmails.words('EmailReceivers.csv')\n",
    "Emails = clintonmails.words('Emails.csv')\n",
    "Persons = clintonmails.words('Persons.csv')\n",
    "Emails_filtered = clintonmails.words('filtered.txt')"
   ]
  }
 ],
 "metadata": {
  "anaconda-cloud": {},
  "kernelspec": {
   "display_name": "Python [default]",
   "language": "python",
   "name": "python2"
  },
  "language_info": {
   "codemirror_mode": {
    "name": "ipython",
    "version": 2
   },
   "file_extension": ".py",
   "mimetype": "text/x-python",
   "name": "python",
   "nbconvert_exporter": "python",
   "pygments_lexer": "ipython2",
   "version": "2.7.12"
  }
 },
 "nbformat": 4,
 "nbformat_minor": 1
}
