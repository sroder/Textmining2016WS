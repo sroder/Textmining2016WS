{
 "cells": [
  {
   "cell_type": "code",
   "execution_count": 1,
   "metadata": {
    "collapsed": false
   },
   "outputs": [],
   "source": [
    "import nltk"
   ]
  },
  {
   "cell_type": "code",
   "execution_count": 2,
   "metadata": {
    "collapsed": false
   },
   "outputs": [],
   "source": [
    "#nltk.download()"
   ]
  },
  {
   "cell_type": "code",
   "execution_count": 3,
   "metadata": {
    "collapsed": true
   },
   "outputs": [],
   "source": [
    "from nltk.corpus import nps_chat"
   ]
  },
  {
   "cell_type": "code",
   "execution_count": 4,
   "metadata": {
    "collapsed": false
   },
   "outputs": [],
   "source": [
    "# The first step is to extract the basic messaging data. We will call xml_posts() to get a data structure representing the XML annotation for each post:\"\n",
    "posts = nltk.corpus.nps_chat.xml_posts()[:10000]"
   ]
  },
  {
   "cell_type": "code",
   "execution_count": 5,
   "metadata": {
    "collapsed": false
   },
   "outputs": [],
   "source": [
    "#define a simple feature extractor that checks what words the post contains:\n",
    "def dialogue_act_features(post):\n",
    "    features = {}\n",
    "    for word in nltk.word_tokenize(post):\n",
    "            features['contains({})'.format(word.lower())] = True\n",
    "    return features"
   ]
  },
  {
   "cell_type": "code",
   "execution_count": 6,
   "metadata": {
    "collapsed": false
   },
   "outputs": [],
   "source": [
    "featuresets = [(dialogue_act_features(post.text), post.get('class')) for post in posts]\n",
    "size = int(len(featuresets) * 0.1)\n",
    "train_set, test_set = featuresets[size:], featuresets[:size]\n",
    "classifier = nltk.NaiveBayesClassifier.train(train_set)"
   ]
  },
  {
   "cell_type": "code",
   "execution_count": 7,
   "metadata": {
    "collapsed": false
   },
   "outputs": [
    {
     "name": "stdout",
     "output_type": "stream",
     "text": [
      "[({'contains(seriously)': True, 'contains(party)': True, 'contains(hair)': True, 'contains(lmao)': True, 'contains(?)': True}, 'ynQuestion'), ({'contains(join)': True}, 'System'), ({'contains(-)': True, 'contains(:)': True, 'contains(thanks)': True, 'contains())': True}, 'Statement'), ({'contains(..lol)': True, 'contains(is)': True, 'contains(sexy)': True, 'contains(a)': True, 'contains(this)': True, 'contains(point)': True, 'contains(bonus)': True, 'contains(at)': True, 'contains(in)': True, 'contains(life)': True, 'contains(just)': True, 'contains(...)': True, 'contains(my)': True}, 'Statement'), ({'contains(10-19-30suser17)': True, 'contains(lol)': True}, 'Emotion'), ({'contains(just)': True, 'contains(...)': True, 'contains(kidding)': True, 'contains(..)': True}, 'Statement'), ({'contains(lol)': True}, 'Emotion'), ({'contains(part)': True}, 'System'), ({'contains(anti-sexy)': True, 'contains(<)': True}, 'Statement'), ({'contains(the)': True, 'contains(hey)': True, 'contains(to)': True, 'contains(10-19-30suser30)': True, 'contains(welcome)': True, 'contains(crazy)': True, 'contains(room)': True, 'contains(lol)': True, 'contains(...)': True}, 'Greet')]\n"
     ]
    }
   ],
   "source": [
    "print(train_set[:10])"
   ]
  },
  {
   "cell_type": "code",
   "execution_count": 8,
   "metadata": {
    "collapsed": true
   },
   "outputs": [],
   "source": [
    "with open('filtered.txt') as fin:                                                 \n",
    "    raw_text = fin.read() "
   ]
  },
  {
   "cell_type": "code",
   "execution_count": 9,
   "metadata": {
    "collapsed": true
   },
   "outputs": [],
   "source": [
    "import re\n",
    "sentences = re.split('\\?+!+|!+\\?+|\\.+|!+|\\?+', raw_text) "
   ]
  },
  {
   "cell_type": "code",
   "execution_count": 10,
   "metadata": {
    "collapsed": true
   },
   "outputs": [],
   "source": [
    "def email_features(sentence):\n",
    "    emailfeatures = {}\n",
    "    for word in nltk.word_tokenize(sentence):\n",
    "        emailfeatures['contains({})'.format(word.lower())] = True\n",
    "    return emailfeatures"
   ]
  },
  {
   "cell_type": "code",
   "execution_count": 19,
   "metadata": {
    "collapsed": false
   },
   "outputs": [
    {
     "name": "stdout",
     "output_type": "stream",
     "text": [
      "[' This source added that Saif al-Islam had said that Qaddafi himself found the announcement amusing', ') From: Lord Owen Cody  Realistically the UN will not authorise a no fly zone while Gaddafi continues to hold off bombing and strafing but keeping it up front and on the military agenda keeps him worried']\n"
     ]
    }
   ],
   "source": [
    "print (sentences[100:102])"
   ]
  },
  {
   "cell_type": "code",
   "execution_count": 11,
   "metadata": {
    "collapsed": false
   },
   "outputs": [],
   "source": [
    "featuresets_email = [email_features(sentence) for sentence in sentences]\n",
    "#size = int(len(featuresets) * 0.1)\n",
    "#test_set = featuresets[size:]\n",
    "#print(nltk.classify.accuracy(classifier, test_set))"
   ]
  },
  {
   "cell_type": "code",
   "execution_count": 12,
   "metadata": {
    "collapsed": false
   },
   "outputs": [
    {
     "name": "stdout",
     "output_type": "stream",
     "text": [
      "[{'contains(;)': True, 'contains(@)': True, \"contains(')\": True, \"contains('abedinh)\": True, 'contains(state)': True, 'contains(gov)': True}, {'contains(h)': True, 'contains(@)': True, \"contains(')\": True, 'contains(hrod17)': True, 'contains(gov)': True, 'contains(clintonemail)': True, 'contains(<)': True}, {'contains(b)': True, 'contains(06/30/2015)': True, 'contains(16)': True, 'contains(f-2014-20439)': True, 'contains(>)': True, 'contains(j)': True, 'contains(com)': True, 'contains(jacob)': True, 'contains(saturday)': True, 'contains(2009)': True, 'contains(pm)': True, 'contains(crocker)': True, 'contains(``)': True, \"contains('')\": True, 'contains(part)': True, 'contains(;)': True, 'contains(scanlon)': True, 'contains(may)': True, 'contains(bathsheba)': True, 'contains(thx)': True, 'contains(release)': True, 'contains(sullivan)': True, 'contains(12:53)': True, 'contains(n)': True, 'contains(amy)': True, 'contains(c05758532)': True, 'contains(in)': True}, {'contains(pls)': True, 'contains(me)': True, 'contains(updated)': True, 'contains(keep)': True}, {'contains(unclassified)': True, 'contains(u)': True, 'contains(``)': True}, {'contains(s)': True}, {'contains(department)': True, 'contains(case)': True, 'contains(state)': True, 'contains(of)': True, 'contains(no)': True}, {'contains(doc)': True, 'contains(f-2014-20439)': True, 'contains(no)': True}, {'contains(06/30/2015)': True, 'contains(:)': True, 'contains(date)': True, 'contains(c05758532)': True, 'contains(1)': True, 'contains(in)': True, 'contains(part)': True, 'contains(release)': True}, {'contains(b)': True, 'contains(()': True, 'contains(b5)': True, 'contains(4)': True, 'contains(b1)': True, 'contains(1)': True, 'contains())': True}]\n"
     ]
    }
   ],
   "source": [
    "new_size = int(len(featuresets_email) * 0.1)\n",
    "test_set_email = featuresets_email[new_size:]\n",
    "#print(nltk.classify.accuracy(classifier, test_set))\n",
    "print (test_set_email[:10])"
   ]
  },
  {
   "cell_type": "code",
   "execution_count": 13,
   "metadata": {
    "collapsed": false
   },
   "outputs": [],
   "source": [
    "import matplotlib.pyplot as plt"
   ]
  },
  {
   "cell_type": "code",
   "execution_count": 14,
   "metadata": {
    "collapsed": true
   },
   "outputs": [],
   "source": [
    "import numpy as np"
   ]
  },
  {
   "cell_type": "code",
   "execution_count": 25,
   "metadata": {
    "collapsed": false
   },
   "outputs": [],
   "source": [
    "#plt.hist(test_set[:25])\n",
    "#plt.title(\"Emails Histogram\")"
   ]
  },
  {
   "cell_type": "code",
   "execution_count": 21,
   "metadata": {
    "collapsed": false
   },
   "outputs": [],
   "source": [
    "guess = classifier.classify_many(test_set_email)"
   ]
  },
  {
   "cell_type": "code",
   "execution_count": 26,
   "metadata": {
    "collapsed": false
   },
   "outputs": [
    {
     "name": "stdout",
     "output_type": "stream",
     "text": [
      "['Clarify', 'Other', 'Clarify', 'Statement', 'whQuestion', 'Statement', 'nAnswer', 'nAnswer', 'Other', 'Other']\n"
     ]
    }
   ],
   "source": [
    "print(guess[:10])"
   ]
  },
  {
   "cell_type": "code",
   "execution_count": null,
   "metadata": {
    "collapsed": true
   },
   "outputs": [],
   "source": []
  }
 ],
 "metadata": {
  "kernelspec": {
   "display_name": "Python 2",
   "language": "python",
   "name": "python2"
  },
  "language_info": {
   "codemirror_mode": {
    "name": "ipython",
    "version": 2
   },
   "file_extension": ".py",
   "mimetype": "text/x-python",
   "name": "python",
   "nbconvert_exporter": "python",
   "pygments_lexer": "ipython2",
   "version": "2.7.12"
  }
 },
 "nbformat": 4,
 "nbformat_minor": 1
}
